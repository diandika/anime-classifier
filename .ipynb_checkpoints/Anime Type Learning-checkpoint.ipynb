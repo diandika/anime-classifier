{
 "cells": [
  {
   "cell_type": "code",
   "execution_count": 1,
   "metadata": {},
   "outputs": [
    {
     "name": "stdout",
     "output_type": "stream",
     "text": [
      "2.1.0\n"
     ]
    }
   ],
   "source": [
    "import tensorflow as tf\n",
    "from tensorflow.keras.preprocessing.image import ImageDataGenerator\n",
    "from tensorflow.keras.optimizers import Adam\n",
    "print(tf.__version__)"
   ]
  },
  {
   "cell_type": "code",
   "execution_count": 2,
   "metadata": {},
   "outputs": [
    {
     "name": "stdout",
     "output_type": "stream",
     "text": [
      "type_dir\\train\n",
      "type_dir\\test\n"
     ]
    }
   ],
   "source": [
    "import os\n",
    "\n",
    "BASE_DATA_DIR = 'type_dir'\n",
    "TRAIN_DIR = os.path.join(BASE_DATA_DIR,'train')\n",
    "TEST_DIR = os.path.join(BASE_DATA_DIR,'test')\n",
    "\n",
    "print(TRAIN_DIR)\n",
    "print(TEST_DIR)"
   ]
  },
  {
   "cell_type": "code",
   "execution_count": 21,
   "metadata": {},
   "outputs": [
    {
     "name": "stdout",
     "output_type": "stream",
     "text": [
      "Found 12990 images belonging to 6 classes.\n",
      "Found 687 images belonging to 6 classes.\n"
     ]
    }
   ],
   "source": [
    "train_datagen = ImageDataGenerator(rescale=1./255)\n",
    "\n",
    "train_generator = train_datagen.flow_from_directory(\n",
    "    TRAIN_DIR,\n",
    "    target_size = (210, 150),\n",
    "    batch_size = 20,\n",
    "    class_mode = 'categorical'\n",
    ")\n",
    "\n",
    "val_datagen = ImageDataGenerator(rescale=1.255)\n",
    "\n",
    "val_generator = val_datagen.flow_from_directory(\n",
    "    TEST_DIR,\n",
    "    target_size = (210, 150),\n",
    "    batch_size = 10,\n",
    "    class_mode = 'categorical'\n",
    ")"
   ]
  },
  {
   "cell_type": "code",
   "execution_count": 18,
   "metadata": {},
   "outputs": [
    {
     "name": "stdout",
     "output_type": "stream",
     "text": [
      "Model: \"sequential_3\"\n",
      "_________________________________________________________________\n",
      "Layer (type)                 Output Shape              Param #   \n",
      "=================================================================\n",
      "conv2d_12 (Conv2D)           (None, 208, 148, 4)       112       \n",
      "_________________________________________________________________\n",
      "max_pooling2d_12 (MaxPooling (None, 104, 74, 4)        0         \n",
      "_________________________________________________________________\n",
      "conv2d_13 (Conv2D)           (None, 102, 72, 8)        296       \n",
      "_________________________________________________________________\n",
      "max_pooling2d_13 (MaxPooling (None, 51, 36, 8)         0         \n",
      "_________________________________________________________________\n",
      "conv2d_14 (Conv2D)           (None, 49, 34, 16)        1168      \n",
      "_________________________________________________________________\n",
      "max_pooling2d_14 (MaxPooling (None, 24, 17, 16)        0         \n",
      "_________________________________________________________________\n",
      "flatten_4 (Flatten)          (None, 6528)              0         \n",
      "_________________________________________________________________\n",
      "dense_7 (Dense)              (None, 64)                417856    \n",
      "_________________________________________________________________\n",
      "dropout (Dropout)            (None, 64)                0         \n",
      "_________________________________________________________________\n",
      "dense_8 (Dense)              (None, 6)                 390       \n",
      "=================================================================\n",
      "Total params: 419,822\n",
      "Trainable params: 419,822\n",
      "Non-trainable params: 0\n",
      "_________________________________________________________________\n"
     ]
    }
   ],
   "source": [
    "model = tf.keras.models.Sequential([\n",
    "    tf.keras.layers.Conv2D(4, (3,3), activation='relu', input_shape=(210, 150, 3)),\n",
    "    tf.keras.layers.MaxPool2D(2,2),\n",
    "    tf.keras.layers.Conv2D(8, (3,3), activation='relu'),\n",
    "    tf.keras.layers.MaxPool2D(2,2),\n",
    "    tf.keras.layers.Conv2D(16, (3,3), activation='relu'),\n",
    "    tf.keras.layers.MaxPool2D(2,2),\n",
    "    tf.keras.layers.Flatten(),\n",
    "    tf.keras.layers.Dense(64, activation='relu'),\n",
    "    tf.keras.layers.Dropout(0.2),\n",
    "    tf.keras.layers.Dense(6, activation='softmax')\n",
    "])\n",
    "\n",
    "model.summary()\n",
    "\n",
    "model.compile(optimizer=Adam(learning_rate=0.001), loss='categorical_crossentropy', metrics=['accuracy'])"
   ]
  },
  {
   "cell_type": "code",
   "execution_count": 22,
   "metadata": {},
   "outputs": [
    {
     "name": "stdout",
     "output_type": "stream",
     "text": [
      "WARNING:tensorflow:sample_weight modes were coerced from\n",
      "  ...\n",
      "    to  \n",
      "  ['...']\n",
      "WARNING:tensorflow:sample_weight modes were coerced from\n",
      "  ...\n",
      "    to  \n",
      "  ['...']\n",
      "Train for 650 steps, validate for 69 steps\n",
      "Epoch 1/10\n",
      "650/650 [==============================] - 366s 563ms/step - loss: 1.6123 - accuracy: 0.3183 - val_loss: 272.3647 - val_accuracy: 0.3333\n",
      "Epoch 2/10\n",
      "650/650 [==============================] - 288s 443ms/step - loss: 1.5524 - accuracy: 0.3554 - val_loss: 332.8343 - val_accuracy: 0.3144\n",
      "Epoch 3/10\n",
      "650/650 [==============================] - 262s 404ms/step - loss: 1.4857 - accuracy: 0.3877 - val_loss: 228.8095 - val_accuracy: 0.3464\n",
      "Epoch 4/10\n",
      "650/650 [==============================] - 260s 400ms/step - loss: 1.3798 - accuracy: 0.4402 - val_loss: 402.3516 - val_accuracy: 0.3188\n",
      "Epoch 5/10\n",
      "650/650 [==============================] - 239s 368ms/step - loss: 1.2405 - accuracy: 0.5025 - val_loss: 505.2709 - val_accuracy: 0.3435\n",
      "Epoch 6/10\n",
      "650/650 [==============================] - 238s 367ms/step - loss: 1.0972 - accuracy: 0.5602 - val_loss: 418.5824 - val_accuracy: 0.3333\n",
      "Epoch 7/10\n",
      "650/650 [==============================] - 237s 364ms/step - loss: 0.9405 - accuracy: 0.6353 - val_loss: 517.8067 - val_accuracy: 0.3450\n",
      "Epoch 8/10\n",
      "650/650 [==============================] - 241s 370ms/step - loss: 0.7945 - accuracy: 0.6925 - val_loss: 778.3337 - val_accuracy: 0.3348\n",
      "Epoch 9/10\n",
      "650/650 [==============================] - 249s 384ms/step - loss: 0.6585 - accuracy: 0.7517 - val_loss: 936.6296 - val_accuracy: 0.3115\n",
      "Epoch 10/10\n",
      "650/650 [==============================] - 262s 404ms/step - loss: 0.5598 - accuracy: 0.7866 - val_loss: 1160.3594 - val_accuracy: 0.3217\n"
     ]
    }
   ],
   "source": [
    "history = model.fit(\n",
    "    train_generator,\n",
    "    epochs = 10,\n",
    "    verbose = 1,\n",
    "    validation_data = val_generator\n",
    ")"
   ]
  },
  {
   "cell_type": "code",
   "execution_count": 23,
   "metadata": {},
   "outputs": [
    {
     "data": {
      "image/png": "[encoded data removed]",
      "text/plain": [
       "<Figure size 432x288 with 1 Axes>"
      ]
     },
     "metadata": {
      "needs_background": "light"
     },
     "output_type": "display_data"
    },
    {
     "data": {
      "image/png": "[encoded data removed]",
      "text/plain": [
       "<Figure size 432x288 with 1 Axes>"
      ]
     },
     "metadata": {
      "needs_background": "light"
     },
     "output_type": "display_data"
    }
   ],
   "source": [
    "import matplotlib.pyplot as plt\n",
    "\n",
    "train_acc = history.history['accuracy']\n",
    "train_loss = history.history['loss']\n",
    "val_acc = history.history['val_accuracy']\n",
    "val_loss = history.history['val_loss']\n",
    "\n",
    "epoch = range(1, len(train_acc)+1)\n",
    "plt.figure(1)\n",
    "plt.plot(epoch, train_acc, 'r-')\n",
    "plt.plot(epoch, val_acc, 'b-')\n",
    "plt.legend(['Training Accuracy', 'Validation Accuracy'])\n",
    "plt.xlabel('epoch')\n",
    "plt.ylabel('accuracy')\n",
    "plt.show()\n",
    "\n",
    "plt.figure(2)\n",
    "plt.plot(epoch, train_loss, 'r--')\n",
    "plt.plot(epoch, val_loss, 'b--')\n",
    "plt.legend(['Training Loss', 'Validation Loss'])\n",
    "plt.xlabel('epoch')\n",
    "plt.ylabel('loss')\n",
    "plt.show()"
   ]
  },
  {
   "cell_type": "code",
   "execution_count": 24,
   "metadata": {},
   "outputs": [
    {
     "name": "stdout",
     "output_type": "stream",
     "text": [
      "WARNING:tensorflow:From C:\\Users\\diandika\\AppData\\Roaming\\Python\\Python37\\site-packages\\tensorflow_core\\python\\ops\\resource_variable_ops.py:1786: calling BaseResourceVariable.__init__ (from tensorflow.python.ops.resource_variable_ops) with constraint is deprecated and will be removed in a future version.\n",
      "Instructions for updating:\n",
      "If using Keras pass *_constraint arguments to layers.\n",
      "INFO:tensorflow:Assets written to: type_classifier_1.0.0\\assets\n"
     ]
    }
   ],
   "source": [
    "model.save(\"type_classifier_1.0.0\")"
   ]
  },
  {
   "cell_type": "code",
   "execution_count": null,
   "metadata": {},
   "outputs": [],
   "source": []
  }
 ],
 "metadata": {
  "kernelspec": {
   "display_name": "Python 3",
   "language": "python",
   "name": "python3"
  },
  "language_info": {
   "codemirror_mode": {
    "name": "ipython",
    "version": 3
   },
   "file_extension": ".py",
   "mimetype": "text/x-python",
   "name": "python",
   "nbconvert_exporter": "python",
   "pygments_lexer": "ipython3",
   "version": "3.7.7"
  }
 },
 "nbformat": 4,
 "nbformat_minor": 4
}
