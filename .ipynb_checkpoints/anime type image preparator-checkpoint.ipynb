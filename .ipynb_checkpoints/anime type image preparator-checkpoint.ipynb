{
 "cells": [
  {
   "cell_type": "code",
   "execution_count": 2,
   "metadata": {},
   "outputs": [],
   "source": [
    "import os\n",
    "import pandas as pd\n",
    "import random\n",
    "import shutil\n",
    "from PIL import Image"
   ]
  },
  {
   "cell_type": "code",
   "execution_count": 3,
   "metadata": {},
   "outputs": [
    {
     "name": "stdout",
     "output_type": "stream",
     "text": [
      "14382\n"
     ]
    }
   ],
   "source": [
    "df = pd.read_csv(\"data_file/AnimeList.csv\", sep=',')\n",
    "df = df[df['image_url'].notna() & df[\"type\"].notna()]\n",
    "print(len(df))"
   ]
  },
  {
   "cell_type": "code",
   "execution_count": 4,
   "metadata": {},
   "outputs": [],
   "source": [
    "image_base_file = \"image_file\"\n",
    "image_format = \".jpg\"\n",
    "count = 0\n",
    "    \n",
    "for idx, row in df.iterrows():\n",
    "    image_path = \"%s/%s%s\" % (image_base_file, row[\"anime_id\"], image_format)"
   ]
  },
  {
   "cell_type": "code",
   "execution_count": null,
   "metadata": {},
   "outputs": [],
   "source": [
    "anime_list= []\n",
    "image_base_file = \"image_file\"\n",
    "image_format = \".jpg\"\n",
    "\n",
    "for idx, row in df.iterrows():\n",
    "    try:\n",
    "        image_path = \"%s/%s%s\" % (image_base_file, row[\"anime_id\"], image_format)\n",
    "        Image.open(image_path)\n",
    "        anime_dictionary = {\n",
    "            \"anime_id\": row[\"anime_id\"],\n",
    "            \"title\": row[\"title\"],\n",
    "            \"image_path\": image_path,\n",
    "            \"type\": row[\"type\"]\n",
    "        }\n",
    "        anime_list.append(anime_dictionary)\n",
    "    except:\n",
    "        pass\n",
    "print(len(anime_list))"
   ]
  },
  {
   "cell_type": "code",
   "execution_count": 18,
   "metadata": {},
   "outputs": [
    {
     "name": "stdout",
     "output_type": "stream",
     "text": [
      "{'TV': 4133, 'Movie': 2501, 'Music': 835, 'OVA': 3175, 'ONA': 1112, 'Special': 1921, 'Unknown': 20}\n",
      "7\n"
     ]
    }
   ],
   "source": [
    "anime_type = {}\n",
    "for item in anime_list:\n",
    "    if item[\"type\"] not in anime_type:\n",
    "        anime_type[item[\"type\"]] = 1\n",
    "    else:\n",
    "        anime_type[item[\"type\"]] = anime_type[item[\"type\"]] + 1\n",
    "    #print(anime_type)\n",
    "print(anime_type)\n",
    "print(len(anime_type))"
   ]
  },
  {
   "cell_type": "code",
   "execution_count": 21,
   "metadata": {},
   "outputs": [],
   "source": [
    "TYPE_CLASSIFICATION_DIR = \"type_dir\"\n",
    "os.mkdir(TYPE_CLASSIFICATION_DIR)\n",
    "TRAIN_DIR = \"train\"\n",
    "TEST_DIR = \"test\"\n",
    "TYPE_LIST = list(anime_type.keys())"
   ]
  },
  {
   "cell_type": "code",
   "execution_count": 22,
   "metadata": {},
   "outputs": [],
   "source": [
    "train_path = os.path.join(TYPE_CLASSIFICATION_DIR, TRAIN_DIR)\n",
    "os.mkdir(train_path)\n",
    "test_path = os.path.join(TYPE_CLASSIFICATION_DIR, TEST_DIR)\n",
    "os.mkdir(test_path)\n",
    "\n",
    "for item in TYPE_LIST:\n",
    "    type_train_path = os.path.join(train_path, item)\n",
    "    type_test_path = os.path.join(test_path, item)\n",
    "    \n",
    "    os.mkdir(type_train_path)\n",
    "    os.mkdir(type_test_path)"
   ]
  },
  {
   "cell_type": "code",
   "execution_count": 23,
   "metadata": {},
   "outputs": [
    {
     "name": "stdout",
     "output_type": "stream",
     "text": [
      "TV: 4133\n",
      "image_file/11013.jpg\n",
      "Movie: 2501\n",
      "image_file/33185.jpg\n",
      "Music: 835\n",
      "image_file/7518.jpg\n",
      "OVA: 3175\n",
      "image_file/9389.jpg\n",
      "ONA: 1112\n",
      "image_file/23903.jpg\n",
      "Special: 1921\n",
      "image_file/13247.jpg\n",
      "Unknown: 20\n",
      "image_file/35252.jpg\n"
     ]
    }
   ],
   "source": [
    "image_path_list = {}\n",
    "for item in TYPE_LIST:\n",
    "    image_path_list[item] = []\n",
    "\n",
    "for anime in anime_list:\n",
    "    image_path_list[anime[\"type\"]].append(anime[\"image_path\"])\n",
    "\n",
    "for key in image_path_list.keys():\n",
    "    print(key + \": \" + str(len(image_path_list[key])))\n",
    "    print(image_path_list[key][0])"
   ]
  },
  {
   "cell_type": "code",
   "execution_count": 24,
   "metadata": {},
   "outputs": [
    {
     "name": "stdout",
     "output_type": "stream",
     "text": [
      "train TV image: 3719\n",
      "test TV image: 414\n",
      "train Movie image: 2250\n",
      "test Movie image: 251\n",
      "train Music image: 751\n",
      "test Music image: 84\n",
      "train OVA image: 2857\n",
      "test OVA image: 318\n",
      "train ONA image: 1000\n",
      "test ONA image: 112\n",
      "train Special image: 1728\n",
      "test Special image: 193\n",
      "train Unknown image: 18\n",
      "test Unknown image: 2\n"
     ]
    }
   ],
   "source": [
    "train_ratio = 9.5\n",
    "for key in image_path_list.keys():\n",
    "    image_list = random.sample(image_path_list[key], len(image_path_list[key]))\n",
    "    train_len = (len(image_list) * train_ratio) // 10\n",
    "    train_image = image_list[:train_len]\n",
    "    test_image = image_list[train_len:]\n",
    "    \n",
    "    dst_train = os.path.join(train_path, key)\n",
    "    dst_test = os.path.join(test_path, key)\n",
    "    for image in train_image:\n",
    "        shutil.copy(image, dst_train)\n",
    "    print(\"train \" + key + \" image: \" + str(len(os.listdir(dst_train))))\n",
    "    for image in test_image:\n",
    "        shutil.copy(image, dst_test)\n",
    "    print(\"test \" + key + \" image: \" + str(len(os.listdir(dst_test))))"
   ]
  },
  {
   "cell_type": "code",
   "execution_count": null,
   "metadata": {},
   "outputs": [],
   "source": []
  }
 ],
 "metadata": {
  "kernelspec": {
   "display_name": "Python 3",
   "language": "python",
   "name": "python3"
  },
  "language_info": {
   "codemirror_mode": {
    "name": "ipython",
    "version": 3
   },
   "file_extension": ".py",
   "mimetype": "text/x-python",
   "name": "python",
   "nbconvert_exporter": "python",
   "pygments_lexer": "ipython3",
   "version": "3.7.7"
  }
 },
 "nbformat": 4,
 "nbformat_minor": 4
}
